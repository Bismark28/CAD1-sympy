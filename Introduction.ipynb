{
 "cells": [
  {
   "cell_type": "markdown",
   "metadata": {},
   "source": [
    "# Computer Algebra system"
   ]
  },
  {
   "cell_type": "markdown",
   "metadata": {},
   "source": [
    "\n",
    "## Course introduction\n",
    "This course is part of Numerical Analysis module.\n",
    "* 6 sessions: 5 labs and final exam\n",
    "* It is based on python package sympy \n",
    "* Final mark is based on attendance, progress in the lab and exam"
   ]
  },
  {
   "cell_type": "markdown",
   "metadata": {},
   "source": [
    "## Requires materials \n",
    "* Python 3 \n",
    "* You can install python using [anaconda](https://conda.io/docs/user-guide/install/index.html) or [miniconda](https://conda.io/miniconda.html). Anaconda is python distribution which contains more than 150 scientific python package, miniconda contains less packages\n",
    "* using conda install `conda install packagename`\n",
    "    * sympy:  \n",
    "        ```\n",
    "        conda isntall sympy\n",
    "        ```\n",
    "    * jupyter: \n",
    "        ```\n",
    "        conda install jupyter\n",
    "        ```\n",
    "    * ipython: \n",
    "        ```\n",
    "        conda install ipython\n",
    "        ```\n",
    "* This is jupyter notebook, running on python 3 kernel. The labs will be practiced in the notebook. However you can practice them in ipython or python directly. \n",
    "\n",
    "* How to run jupyter notebook:\n",
    "    * In terminal run \n",
    "    ```\n",
    "    jupyter notebook\n",
    "    ``` \n",
    "* Some useful shortcuts while using a command line:\n",
    "    * opening a terminal:    `clr + alt + t`\n",
    "    * closing a terminal:    `clr + d `\n",
    "    * creating a folder in terminal:     `mkdir folder_name`\n",
    "    * creating a file in terminal:      `touch filename.extention`\n",
    "    * check [this](https://www.git-tower.com/blog/command-line-cheat-sheet/) and [this](https://learntocodewith.me/command-line/unix-command-cheat-sheet/) for unix \n"
   ]
  },
  {
   "cell_type": "markdown",
   "metadata": {},
   "source": [
    "## Note:\n",
    "Google is your best friend !! "
   ]
  },
  {
   "cell_type": "markdown",
   "metadata": {},
   "source": [
    "## Sympy\n",
    "\n",
    "Sympy is a computer algebra system like maxima, mathematica and maple. \n",
    "Computer algebra system (CAS) is a software that facilitates symbolic mathematics. \n",
    "The core functionality of a CAS is manipulation of mathematcal expressions in symbolic form. \n",
    "\n",
    "Sympy is entirely written in python and does not require any external libraries.\n"
   ]
  },
  {
   "cell_type": "markdown",
   "metadata": {},
   "source": [
    "## Syllabus\n",
    "* [Lab1: introduction to sympy](http://localhost:8888/notebooks/lab1.ipynb)"
   ]
  }
 ],
 "metadata": {
  "kernelspec": {
   "display_name": "Python 3",
   "language": "python",
   "name": "python3"
  },
  "language_info": {
   "codemirror_mode": {
    "name": "ipython",
    "version": 3
   },
   "file_extension": ".py",
   "mimetype": "text/x-python",
   "name": "python",
   "nbconvert_exporter": "python",
   "pygments_lexer": "ipython3",
   "version": "3.6.2"
  }
 },
 "nbformat": 4,
 "nbformat_minor": 2
}
