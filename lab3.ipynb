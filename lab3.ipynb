{
 "cells": [
  {
   "cell_type": "markdown",
   "metadata": {},
   "source": [
    "# Case study - Trajectory of a projectile"
   ]
  },
  {
   "cell_type": "code",
   "execution_count": 6,
   "metadata": {
    "collapsed": true
   },
   "outputs": [],
   "source": [
    "%matplotlib inline\n",
    "import matplotlib.pyplot as plt\n",
    "from sympy import * \n",
    "init_printing(use_unicode=True)\n",
    "import numpy as np "
   ]
  },
  {
   "cell_type": "markdown",
   "metadata": {
    "collapsed": true
   },
   "source": [
    "Objectives\n",
    "* Study characteristics of the trajectory of a projectile in the ideal case of a motion in a uniform gravitational field\n",
    " ![](./trajectory_of_projectile.png)"
   ]
  },
  {
   "cell_type": "markdown",
   "metadata": {},
   "source": [
    "## 1. Equation of the trajectory\n",
    "\n",
    "In the ideal case of a motion in a uniform gravitational field, in the absence of other forces (such as air drag), the trajectory of a projectile is described by a parabola given by:\n",
    "\n",
    "eq(1) :$$ z(x) = -\\frac{1}{2}g\\frac{x^2}{v^{2}_{0} \\cos^2 \\alpha} + x\\tan \\alpha + h $$  \n",
    "\n",
    "where $g$ is the acceleration of gravity (9.81 $ms^{−2}$ ), $v_{0}$ is the initial velocity of the projectile, $\\alpha$ is the angle of elevation and $h$ is the initial altitude from which the projectile is thrown.\n",
    "\n",
    "\n"
   ]
  },
  {
   "cell_type": "markdown",
   "metadata": {},
   "source": [
    "\n",
    "* Q1.1 - Create a function that represents equation (1)."
   ]
  },
  {
   "cell_type": "code",
   "execution_count": 6,
   "metadata": {},
   "outputs": [],
   "source": [
    "from sympy import * \n",
    "import numpy as np \n",
    "g, x, v0, alpha, h = symbols('g, x, v0, alpha , h', positive=True)\n",
    "\n",
    "facts = Q.positive(x), Q.positive(v0), Q.positive(alpha), Q.positive(h)"
   ]
  },
  {
   "cell_type": "code",
   "execution_count": 7,
   "metadata": {},
   "outputs": [],
   "source": [
    "def f(x, alpha, v0, h, g=9.81):      \n",
    "        return(-g*x**2/(2*(v0**2)*(cos(alpha)*cos(alpha))))+ x*tan(alpha)+h "
   ]
  },
  {
   "cell_type": "markdown",
   "metadata": {},
   "source": [
    "\n",
    "* Q 1.2 - Plot the trajectory for the following set of parameters\n",
    "    * $h = 1.70m$\n",
    "    * $\\alpha = 40^{\\circ}$\n",
    "    * $ v_{0} = 8 ms^{−1}$"
   ]
  },
  {
   "cell_type": "code",
   "execution_count": 8,
   "metadata": {
    "scrolled": true
   },
   "outputs": [
    {
     "data": {
      "text/plain": [
       "-0.130602384016567*x**2 + 0.83909963117728*x + 1.7"
      ]
     },
     "execution_count": 8,
     "metadata": {},
     "output_type": "execute_result"
    }
   ],
   "source": [
    "fd = f(x,np.deg2rad(40), 8, 1.70)\n",
    "fd"
   ]
  },
  {
   "cell_type": "code",
   "execution_count": 9,
   "metadata": {},
   "outputs": [
    {
     "data": {
      "image/png": "[encoded data removed]",
      "text/plain": [
       "<matplotlib.figure.Figure at 0x7fbab0357160>"
      ]
     },
     "metadata": {},
     "output_type": "display_data"
    },
    {
     "data": {
      "text/plain": [
       "<sympy.plotting.plot.Plot at 0x7fbab03570b8>"
      ]
     },
     "execution_count": 9,
     "metadata": {},
     "output_type": "execute_result"
    }
   ],
   "source": [
    "plot(fd, (x, 0, 10))"
   ]
  },
  {
   "cell_type": "markdown",
   "metadata": {},
   "source": [
    "* Q 1.3 - On the same graph, plot several trajectories of projectile launched at different elevation angles but with the same speed v0 = 8ms−1 and the same initial altitude h = 1.70m."
   ]
  },
  {
   "cell_type": "code",
   "execution_count": 10,
   "metadata": {},
   "outputs": [
    {
     "data": {
      "text/plain": [
       "-0.076640625*x**2/cos(alpha)**2 + x*tan(alpha) + 1.7"
      ]
     },
     "execution_count": 10,
     "metadata": {},
     "output_type": "execute_result"
    }
   ],
   "source": [
    "fr = f(x, alpha, v0 = 8, h=1.7)\n",
    "fr\n"
   ]
  },
  {
   "cell_type": "code",
   "execution_count": 10,
   "metadata": {},
   "outputs": [
    {
     "data": {
      "image/png": "[encoded data removed]",
      "text/latex": [
       "$$- \\frac{0.076640625 x^{2}}{\\cos^{2}{\\left (\\alpha \\right )}} + x \\tan{\\left (\\alpha \\right )} + 1.7$$"
      ],
      "text/plain": [
       "               2                 \n",
       "  0.076640625⋅x                  \n",
       "- ────────────── + x⋅tan(α) + 1.7\n",
       "        2                        \n",
       "     cos (α)                     "
      ]
     },
     "execution_count": 10,
     "metadata": {},
     "output_type": "execute_result"
    }
   ],
   "source": [
    "zr= z.subs({g:9.81, h:1.70, v0:8})\n",
    "zr"
   ]
  },
  {
   "cell_type": "code",
   "execution_count": 17,
   "metadata": {},
   "outputs": [
    {
     "name": "stdout",
     "output_type": "stream",
     "text": [
      "[ 0.17453293  0.34906585  0.52359878  0.6981317 ]\n"
     ]
    },
    {
     "data": {
      "image/png": "[encoded data removed]",
      "text/latex": [
       "$$\\left [ - 0.0790234743162011 x^{2} + 0.176326980708465 x + 1.7, \\quad - 0.0867935405573899 x^{2} + 0.363970234266202 x + 1.7, \\quad - 0.1021875 x^{2} + 0.577350269189626 x + 1.7, \\quad - 0.130602384016567 x^{2} + 0.83909963117728 x + 1.7\\right ]$$"
      ],
      "text/plain": [
       "⎡                      2                                                    2 \n",
       "⎣- 0.0790234743162011⋅x  + 0.176326980708465⋅x + 1.7, - 0.0867935405573899⋅x  \n",
       "\n",
       "                                          2                                   \n",
       "+ 0.363970234266202⋅x + 1.7, - 0.1021875⋅x  + 0.577350269189626⋅x + 1.7, - 0.1\n",
       "\n",
       "                2                           ⎤\n",
       "30602384016567⋅x  + 0.83909963117728⋅x + 1.7⎦"
      ]
     },
     "execution_count": 17,
     "metadata": {},
     "output_type": "execute_result"
    }
   ],
   "source": [
    "r = [10, 20, 30, 40]\n",
    "r = np.deg2rad(r)\n",
    "print(r)\n",
    "l2 = [zr.subs({alpha:a}) for a in r]\n",
    "l2"
   ]
  },
  {
   "cell_type": "code",
   "execution_count": 18,
   "metadata": {},
   "outputs": [
    {
     "data": {
      "image/png": "[encoded data removed]",
      "text/plain": [
       "<matplotlib.figure.Figure at 0x7f87fa6feb70>"
      ]
     },
     "metadata": {},
     "output_type": "display_data"
    }
   ],
   "source": [
    "p3 = plot(*l2, (x, 0,  10), show=False, title = 'projectile path for different alpha ')\n",
    "p3[0].line_color = 'r', \n",
    "p3[1].line_color = 'b'\n",
    "p3[2].line_color = 'k'\n",
    "p3[3].line_color = 'c'\n",
    "\n",
    "p3.show()"
   ]
  },
  {
   "cell_type": "markdown",
   "metadata": {},
   "source": [
    "## 2. Trajectory analysis\n"
   ]
  },
  {
   "cell_type": "markdown",
   "metadata": {},
   "source": [
    "* Q 2.1 - Determine a function $f_h(\\alpha, v_0 , h)$ that returns the greatest parabolic height a object reaches within its trajectory.\n",
    "\n"
   ]
  },
  {
   "cell_type": "code",
   "execution_count": 11,
   "metadata": {
    "scrolled": true
   },
   "outputs": [
    {
     "data": {
      "text/plain": [
       "h + x*tan(alpha) - 4.905*x**2/(v0**2*cos(alpha)**2)"
      ]
     },
     "execution_count": 11,
     "metadata": {},
     "output_type": "execute_result"
    }
   ],
   "source": [
    "f(x, alpha, v0, h)"
   ]
  },
  {
   "cell_type": "code",
   "execution_count": 29,
   "metadata": {},
   "outputs": [
    {
     "name": "stdout",
     "output_type": "stream",
     "text": [
      "tan(alpha) - 9.81*x/(v0**2*cos(alpha)**2)\n"
     ]
    },
    {
     "data": {
      "text/plain": [
       "{0.101936799184506*v0**2*cos(alpha)**2*tan(alpha)}"
      ]
     },
     "execution_count": 29,
     "metadata": {},
     "output_type": "execute_result"
    }
   ],
   "source": [
    "d_f = diff(f(x, alpha, v0, h), x)\n",
    "print (d_f)\n",
    "f_h = solveset(d_f, x, domain=S.Reals)\n",
    "f_h"
   ]
  },
  {
   "cell_type": "code",
   "execution_count": null,
   "metadata": {},
   "outputs": [],
   "source": []
  },
  {
   "cell_type": "markdown",
   "metadata": {},
   "source": [
    "Q 2.2 - Determine a function $f_R(\\alpha, v_0, h)$ that gives the range defined by the greatest distance aobject travels\n",
    "along the x axis."
   ]
  },
  {
   "cell_type": "code",
   "execution_count": 35,
   "metadata": {},
   "outputs": [
    {
     "data": {
      "text/plain": [
       "0.0101936799184506*v0*(10.0*v0*sin(alpha) + sqrt(1962.0*h + 100.0*v0**2*sin(alpha)**2))*cos(alpha)"
      ]
     },
     "execution_count": 35,
     "metadata": {},
     "output_type": "execute_result"
    }
   ],
   "source": [
    "s = solve(f(x, alpha, v0, h), x)\n",
    "f_R =s[1] \n",
    "f_R"
   ]
  },
  {
   "cell_type": "code",
   "execution_count": null,
   "metadata": {},
   "outputs": [],
   "source": []
  },
  {
   "cell_type": "markdown",
   "metadata": {},
   "source": [
    "* Q 2.3 - Illustrate with a graphic that an optimal value of $\\alpha$ provides the highest range.\n",
    "\n"
   ]
  },
  {
   "cell_type": "code",
   "execution_count": 41,
   "metadata": {},
   "outputs": [],
   "source": [
    "f_R = diff(f_R, alpha)"
   ]
  },
  {
   "cell_type": "code",
   "execution_count": 42,
   "metadata": {},
   "outputs": [
    {
     "data": {
      "image/png": "[encoded data removed]",
      "text/plain": [
       "<matplotlib.figure.Figure at 0x7fba8b52e908>"
      ]
     },
     "metadata": {},
     "output_type": "display_data"
    },
    {
     "data": {
      "text/plain": [
       "<sympy.plotting.plot.Plot at 0x7fba8b52ecc0>"
      ]
     },
     "execution_count": 42,
     "metadata": {},
     "output_type": "execute_result"
    }
   ],
   "source": [
    "plot(f_R.subs({v0:8, h:1.7}), (alpha, 0, pi/2))"
   ]
  },
  {
   "cell_type": "markdown",
   "metadata": {},
   "source": [
    "* Q 2.4 - Try to find a symbolic solution of $\\alpha$ optimum . Give an numeric solution for the set of parameters defined in section 1.\n"
   ]
  },
  {
   "cell_type": "code",
   "execution_count": 44,
   "metadata": {},
   "outputs": [
    {
     "name": "stdout",
     "output_type": "stream",
     "text": [
      "alpha in radian  0.681290966881072\n",
      "alpha in degree 39.0350970227\n"
     ]
    }
   ],
   "source": [
    "alpha_optimum = solve(f_R.subs({v0:8, h:1.7}), alpha)\n",
    "print('alpha in radian ', alpha_optimum[0])\n",
    "print('alpha in degree' , np.rad2deg(float(alpha_optimum[0])))"
   ]
  },
  {
   "cell_type": "markdown",
   "metadata": {},
   "source": [
    "\n",
    "* Q 2.5 - In the specific case where $h$ = 0, give an algebraic solution of $\\alpha$ optimum ."
   ]
  },
  {
   "cell_type": "code",
   "execution_count": 45,
   "metadata": {},
   "outputs": [
    {
     "data": {
      "text/plain": [
       "[0.785398163397448, 2.35619449019234]"
      ]
     },
     "execution_count": 45,
     "metadata": {},
     "output_type": "execute_result"
    }
   ],
   "source": [
    "ans = solve(f_R.subs({h:0}), alpha)\n",
    "ans"
   ]
  },
  {
   "cell_type": "markdown",
   "metadata": {},
   "source": [
    "## 3. Starting from scratch\n"
   ]
  },
  {
   "cell_type": "markdown",
   "metadata": {},
   "source": [
    "Consider a particle of mass $m$, the Newton second law states:\n",
    "$$F = ma$$\n",
    "where $F$ and $a$ represent respectively the sum of forces and the acceleration of the projectile. \n",
    "Since we only consider the ideal case with $F = m\\overrightarrow{g} = −mg\\overrightarrow{z}$. \n",
    "Therefore, if we only consider the trajectory of in the plane $O\\overrightarrow{x}\\overrightarrow{z}$\n",
    "\n",
    "\n",
    "we can write the coordinate of the mobile $M$ according to $\\overrightarrow{OM}= \n",
    "\\begin{pmatrix} \n",
    "  x \\\\\n",
    "  z \n",
    "\\end{pmatrix}$\n",
    "\n",
    "eq(2):\n",
    "$$\\begin{pmatrix} \n",
    "  0 \\\\\n",
    "  -g \n",
    "\\end{pmatrix} = \\frac{d^2 \\overrightarrow{OM}}{dt^2} = \n",
    "\\begin{pmatrix} \n",
    "  \\frac{d^2 x}{dt^2} \\\\\n",
    "  \\frac{d^2 z}{dt^2}\n",
    "\\end{pmatrix}$$"
   ]
  },
  {
   "cell_type": "markdown",
   "metadata": {},
   "source": [
    "* Q 3.1 - By integrating equation (2) and using correct initial constant, compute the two equations $x(t)$ and $z(t)$.\n"
   ]
  },
  {
   "cell_type": "code",
   "execution_count": 46,
   "metadata": {},
   "outputs": [
    {
     "data": {
      "text/plain": [
       "(Eq(Derivative(x(t), t, t), 0), Eq(Derivative(z(t), t, t), -g))"
      ]
     },
     "execution_count": 46,
     "metadata": {},
     "output_type": "execute_result"
    }
   ],
   "source": [
    "t = symbols('t')\n",
    "x = Function('x')\n",
    "z = Function('z')\n",
    "eqx = Eq(x(t).diff(t, 2))\n",
    "eqz = Eq(z(t).diff(t, 2), -g)\n",
    "\n",
    "eqx, eqz"
   ]
  },
  {
   "cell_type": "code",
   "execution_count": 47,
   "metadata": {},
   "outputs": [
    {
     "data": {
      "text/plain": [
       "Eq(z(t), C1 + C2*t - g*t**2/2)"
      ]
     },
     "execution_count": 47,
     "metadata": {},
     "output_type": "execute_result"
    }
   ],
   "source": [
    "e = dsolve(eqz, z(t))\n",
    "e"
   ]
  },
  {
   "cell_type": "code",
   "execution_count": 48,
   "metadata": {},
   "outputs": [
    {
     "data": {
      "text/plain": [
       "Eq(z(t), -g*t**2/2 + h + t*v0)"
      ]
     },
     "execution_count": 48,
     "metadata": {},
     "output_type": "execute_result"
    }
   ],
   "source": [
    "C1, C2 = symbols('C1, C2')\n",
    "e.subs({C1:h, C2:v0})"
   ]
  },
  {
   "cell_type": "code",
   "execution_count": null,
   "metadata": {
    "collapsed": true
   },
   "outputs": [],
   "source": []
  }
 ],
 "metadata": {
  "kernelspec": {
   "display_name": "Python 3",
   "language": "python",
   "name": "python3"
  },
  "language_info": {
   "codemirror_mode": {
    "name": "ipython",
    "version": 3
   },
   "file_extension": ".py",
   "mimetype": "text/x-python",
   "name": "python",
   "nbconvert_exporter": "python",
   "pygments_lexer": "ipython3",
   "version": "3.6.1"
  }
 },
 "nbformat": 4,
 "nbformat_minor": 2
}
